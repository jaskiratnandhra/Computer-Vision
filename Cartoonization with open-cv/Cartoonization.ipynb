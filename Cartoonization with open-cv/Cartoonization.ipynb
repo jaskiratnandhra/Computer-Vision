{
 "cells": [
  {
   "cell_type": "markdown",
   "metadata": {},
   "source": [
    "# Cartoonization with open-cv"
   ]
  },
  {
   "cell_type": "markdown",
   "metadata": {},
   "source": [
    "## Image Preprocessing"
   ]
  },
  {
   "cell_type": "code",
   "execution_count": 1,
   "metadata": {},
   "outputs": [
    {
     "name": "stdout",
     "output_type": "stream",
     "text": [
      "(427, 500, 3)\n"
     ]
    }
   ],
   "source": [
    "import cv2\n",
    "import numpy as np\n",
    "num_down=4\n",
    "num_bilateral=7\n",
    "img_rgb=cv2.imread(\"pic.jpeg\")\n",
    "print(img_rgb.shape)\n",
    "img_rgb=cv2.resize(img_rgb,(800,800))\n"
   ]
  },
  {
   "cell_type": "markdown",
   "metadata": {},
   "source": [
    "## Downsampling the image and applying Bilateral Filters"
   ]
  },
  {
   "cell_type": "code",
   "execution_count": 2,
   "metadata": {},
   "outputs": [],
   "source": [
    "img_color=img_rgb\n",
    "for i in range(num_down):\n",
    "    img_color=cv2.pyrDown(img_color)\n",
    "for i in range(num_bilateral):\n",
    "    img_color=cv2.bilateralFilter(img_color,d=9,sigmaColor=9,sigmaSpace=7)"
   ]
  },
  {
   "cell_type": "markdown",
   "metadata": {},
   "source": [
    "## Converting image to grayscale and applying the blur effect"
   ]
  },
  {
   "cell_type": "code",
   "execution_count": 3,
   "metadata": {},
   "outputs": [],
   "source": [
    "for _ in range(num_down):\n",
    "    img_color=cv2.pyrUp(img_color)\n",
    "img_gray=cv2.cvtColor(img_rgb,cv2.COLOR_RGB2GRAY)\n",
    "img_blur=cv2.medianBlur(img_gray,7)\n",
    "img_edge=cv2.adaptiveThreshold(img_blur,255,cv2.ADAPTIVE_THRESH_MEAN_C,cv2.THRESH_BINARY,blockSize=9,C=2)\n"
   ]
  },
  {
   "cell_type": "markdown",
   "metadata": {},
   "source": [
    "## Performing bitwise_and and displaying"
   ]
  },
  {
   "cell_type": "code",
   "execution_count": 4,
   "metadata": {},
   "outputs": [],
   "source": [
    "img_edge=cv2.cvtColor(img_edge,cv2.COLOR_GRAY2RGB)\n",
    "img_cartoon=cv2.bitwise_and(img_color,img_edge)\n",
    "stack=np.hstack([img_rgb,img_cartoon])\n",
    "cv2.imshow('stacked Images ', stack)\n"
   ]
  },
  {
   "cell_type": "code",
   "execution_count": null,
   "metadata": {},
   "outputs": [],
   "source": []
  }
 ],
 "metadata": {
  "kernelspec": {
   "display_name": "Python 3",
   "language": "python",
   "name": "python3"
  },
  "language_info": {
   "codemirror_mode": {
    "name": "ipython",
    "version": 3
   },
   "file_extension": ".py",
   "mimetype": "text/x-python",
   "name": "python",
   "nbconvert_exporter": "python",
   "pygments_lexer": "ipython3",
   "version": "3.7.4"
  }
 },
 "nbformat": 4,
 "nbformat_minor": 2
}
